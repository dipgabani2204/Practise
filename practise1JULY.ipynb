{
 "cells": [
  {
   "cell_type": "code",
   "execution_count": 1,
   "metadata": {},
   "outputs": [],
   "source": [
    "import numpy as np\n",
    "import pandas as pd\n",
    "import matplotlib.pyplot as plt\n",
    "import seaborn as sns"
   ]
  },
  {
   "cell_type": "code",
   "execution_count": 32,
   "metadata": {},
   "outputs": [
    {
     "data": {
      "text/html": [
       "<div>\n",
       "<style scoped>\n",
       "    .dataframe tbody tr th:only-of-type {\n",
       "        vertical-align: middle;\n",
       "    }\n",
       "\n",
       "    .dataframe tbody tr th {\n",
       "        vertical-align: top;\n",
       "    }\n",
       "\n",
       "    .dataframe thead th {\n",
       "        text-align: right;\n",
       "    }\n",
       "</style>\n",
       "<table border=\"1\" class=\"dataframe\">\n",
       "  <thead>\n",
       "    <tr style=\"text-align: right;\">\n",
       "      <th></th>\n",
       "      <th>year</th>\n",
       "      <th>month</th>\n",
       "      <th>day</th>\n",
       "      <th>gender</th>\n",
       "      <th>births</th>\n",
       "    </tr>\n",
       "  </thead>\n",
       "  <tbody>\n",
       "    <tr>\n",
       "      <th>0</th>\n",
       "      <td>1969</td>\n",
       "      <td>1</td>\n",
       "      <td>1.0</td>\n",
       "      <td>F</td>\n",
       "      <td>4046</td>\n",
       "    </tr>\n",
       "    <tr>\n",
       "      <th>1</th>\n",
       "      <td>1969</td>\n",
       "      <td>1</td>\n",
       "      <td>1.0</td>\n",
       "      <td>M</td>\n",
       "      <td>4440</td>\n",
       "    </tr>\n",
       "    <tr>\n",
       "      <th>2</th>\n",
       "      <td>1969</td>\n",
       "      <td>1</td>\n",
       "      <td>2.0</td>\n",
       "      <td>F</td>\n",
       "      <td>4454</td>\n",
       "    </tr>\n",
       "    <tr>\n",
       "      <th>3</th>\n",
       "      <td>1969</td>\n",
       "      <td>1</td>\n",
       "      <td>2.0</td>\n",
       "      <td>M</td>\n",
       "      <td>4548</td>\n",
       "    </tr>\n",
       "    <tr>\n",
       "      <th>4</th>\n",
       "      <td>1969</td>\n",
       "      <td>1</td>\n",
       "      <td>3.0</td>\n",
       "      <td>F</td>\n",
       "      <td>4548</td>\n",
       "    </tr>\n",
       "    <tr>\n",
       "      <th>...</th>\n",
       "      <td>...</td>\n",
       "      <td>...</td>\n",
       "      <td>...</td>\n",
       "      <td>...</td>\n",
       "      <td>...</td>\n",
       "    </tr>\n",
       "    <tr>\n",
       "      <th>15542</th>\n",
       "      <td>2008</td>\n",
       "      <td>10</td>\n",
       "      <td>NaN</td>\n",
       "      <td>M</td>\n",
       "      <td>183219</td>\n",
       "    </tr>\n",
       "    <tr>\n",
       "      <th>15543</th>\n",
       "      <td>2008</td>\n",
       "      <td>11</td>\n",
       "      <td>NaN</td>\n",
       "      <td>F</td>\n",
       "      <td>158939</td>\n",
       "    </tr>\n",
       "    <tr>\n",
       "      <th>15544</th>\n",
       "      <td>2008</td>\n",
       "      <td>11</td>\n",
       "      <td>NaN</td>\n",
       "      <td>M</td>\n",
       "      <td>165468</td>\n",
       "    </tr>\n",
       "    <tr>\n",
       "      <th>15545</th>\n",
       "      <td>2008</td>\n",
       "      <td>12</td>\n",
       "      <td>NaN</td>\n",
       "      <td>F</td>\n",
       "      <td>173215</td>\n",
       "    </tr>\n",
       "    <tr>\n",
       "      <th>15546</th>\n",
       "      <td>2008</td>\n",
       "      <td>12</td>\n",
       "      <td>NaN</td>\n",
       "      <td>M</td>\n",
       "      <td>181235</td>\n",
       "    </tr>\n",
       "  </tbody>\n",
       "</table>\n",
       "<p>15547 rows × 5 columns</p>\n",
       "</div>"
      ],
      "text/plain": [
       "       year  month  day gender  births\n",
       "0      1969      1  1.0      F    4046\n",
       "1      1969      1  1.0      M    4440\n",
       "2      1969      1  2.0      F    4454\n",
       "3      1969      1  2.0      M    4548\n",
       "4      1969      1  3.0      F    4548\n",
       "...     ...    ...  ...    ...     ...\n",
       "15542  2008     10  NaN      M  183219\n",
       "15543  2008     11  NaN      F  158939\n",
       "15544  2008     11  NaN      M  165468\n",
       "15545  2008     12  NaN      F  173215\n",
       "15546  2008     12  NaN      M  181235\n",
       "\n",
       "[15547 rows x 5 columns]"
      ]
     },
     "execution_count": 32,
     "metadata": {},
     "output_type": "execute_result"
    }
   ],
   "source": [
    "births=pd.read_csv(\"births.csv\")\n",
    "births"
   ]
  },
  {
   "cell_type": "code",
   "execution_count": 43,
   "metadata": {},
   "outputs": [
    {
     "data": {
      "text/html": [
       "<div>\n",
       "<style scoped>\n",
       "    .dataframe tbody tr th:only-of-type {\n",
       "        vertical-align: middle;\n",
       "    }\n",
       "\n",
       "    .dataframe tbody tr th {\n",
       "        vertical-align: top;\n",
       "    }\n",
       "\n",
       "    .dataframe thead th {\n",
       "        text-align: right;\n",
       "    }\n",
       "</style>\n",
       "<table border=\"1\" class=\"dataframe\">\n",
       "  <thead>\n",
       "    <tr style=\"text-align: right;\">\n",
       "      <th></th>\n",
       "      <th>year</th>\n",
       "      <th>month</th>\n",
       "      <th>day</th>\n",
       "      <th>gender</th>\n",
       "      <th>births</th>\n",
       "    </tr>\n",
       "  </thead>\n",
       "  <tbody>\n",
       "  </tbody>\n",
       "</table>\n",
       "</div>"
      ],
      "text/plain": [
       "Empty DataFrame\n",
       "Columns: [year, month, day, gender, births]\n",
       "Index: []"
      ]
     },
     "execution_count": 43,
     "metadata": {},
     "output_type": "execute_result"
    }
   ],
   "source": [
    "births[births[\"day\"]==60]"
   ]
  },
  {
   "cell_type": "code",
   "execution_count": null,
   "metadata": {},
   "outputs": [],
   "source": []
  },
  {
   "cell_type": "code",
   "execution_count": 38,
   "metadata": {},
   "outputs": [
    {
     "data": {
      "text/html": [
       "<div>\n",
       "<style scoped>\n",
       "    .dataframe tbody tr th:only-of-type {\n",
       "        vertical-align: middle;\n",
       "    }\n",
       "\n",
       "    .dataframe tbody tr th {\n",
       "        vertical-align: top;\n",
       "    }\n",
       "\n",
       "    .dataframe thead th {\n",
       "        text-align: right;\n",
       "    }\n",
       "</style>\n",
       "<table border=\"1\" class=\"dataframe\">\n",
       "  <thead>\n",
       "    <tr style=\"text-align: right;\">\n",
       "      <th>gender</th>\n",
       "      <th>F</th>\n",
       "      <th>M</th>\n",
       "    </tr>\n",
       "    <tr>\n",
       "      <th>births</th>\n",
       "      <th></th>\n",
       "      <th></th>\n",
       "    </tr>\n",
       "  </thead>\n",
       "  <tbody>\n",
       "    <tr>\n",
       "      <th>1</th>\n",
       "      <td>47583.0</td>\n",
       "      <td>35689.0</td>\n",
       "    </tr>\n",
       "    <tr>\n",
       "      <th>2</th>\n",
       "      <td>102862.0</td>\n",
       "      <td>85029.0</td>\n",
       "    </tr>\n",
       "    <tr>\n",
       "      <th>3</th>\n",
       "      <td>21754.0</td>\n",
       "      <td>21792.0</td>\n",
       "    </tr>\n",
       "    <tr>\n",
       "      <th>4</th>\n",
       "      <td>57338.0</td>\n",
       "      <td>49452.0</td>\n",
       "    </tr>\n",
       "    <tr>\n",
       "      <th>5</th>\n",
       "      <td>11887.0</td>\n",
       "      <td>5937.0</td>\n",
       "    </tr>\n",
       "    <tr>\n",
       "      <th>...</th>\n",
       "      <td>...</td>\n",
       "      <td>...</td>\n",
       "    </tr>\n",
       "    <tr>\n",
       "      <th>191866</th>\n",
       "      <td>NaN</td>\n",
       "      <td>2006.0</td>\n",
       "    </tr>\n",
       "    <tr>\n",
       "      <th>192714</th>\n",
       "      <td>NaN</td>\n",
       "      <td>2008.0</td>\n",
       "    </tr>\n",
       "    <tr>\n",
       "      <th>195135</th>\n",
       "      <td>NaN</td>\n",
       "      <td>2007.0</td>\n",
       "    </tr>\n",
       "    <tr>\n",
       "      <th>198942</th>\n",
       "      <td>NaN</td>\n",
       "      <td>2006.0</td>\n",
       "    </tr>\n",
       "    <tr>\n",
       "      <th>199622</th>\n",
       "      <td>NaN</td>\n",
       "      <td>2007.0</td>\n",
       "    </tr>\n",
       "  </tbody>\n",
       "</table>\n",
       "<p>3137 rows × 2 columns</p>\n",
       "</div>"
      ],
      "text/plain": [
       "gender         F        M\n",
       "births                   \n",
       "1        47583.0  35689.0\n",
       "2       102862.0  85029.0\n",
       "3        21754.0  21792.0\n",
       "4        57338.0  49452.0\n",
       "5        11887.0   5937.0\n",
       "...          ...      ...\n",
       "191866       NaN   2006.0\n",
       "192714       NaN   2008.0\n",
       "195135       NaN   2007.0\n",
       "198942       NaN   2006.0\n",
       "199622       NaN   2007.0\n",
       "\n",
       "[3137 rows x 2 columns]"
      ]
     },
     "execution_count": 38,
     "metadata": {},
     "output_type": "execute_result"
    }
   ],
   "source": [
    "sns.set()\n",
    "births.pivot_table('year',index=\"births\",columns=\"gender\",aggfunc=\"sum\")"
   ]
  },
  {
   "cell_type": "code",
   "execution_count": 44,
   "metadata": {},
   "outputs": [
    {
     "data": {
      "text/plain": [
       "<matplotlib.axes._subplots.AxesSubplot at 0x24a2a4e9808>"
      ]
     },
     "execution_count": 44,
     "metadata": {},
     "output_type": "execute_result"
    },
    {
     "data": {
      "image/png": "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\n",
      "text/plain": [
       "<Figure size 432x288 with 1 Axes>"
      ]
     },
     "metadata": {},
     "output_type": "display_data"
    }
   ],
   "source": [
    "sns.set()\n",
    "births.pivot_table('births',index=\"day\",columns=\"gender\",aggfunc=\"sum\").plot()"
   ]
  },
  {
   "cell_type": "code",
   "execution_count": 36,
   "metadata": {},
   "outputs": [
    {
     "data": {
      "text/html": [
       "<div>\n",
       "<style scoped>\n",
       "    .dataframe tbody tr th:only-of-type {\n",
       "        vertical-align: middle;\n",
       "    }\n",
       "\n",
       "    .dataframe tbody tr th {\n",
       "        vertical-align: top;\n",
       "    }\n",
       "\n",
       "    .dataframe thead th {\n",
       "        text-align: right;\n",
       "    }\n",
       "</style>\n",
       "<table border=\"1\" class=\"dataframe\">\n",
       "  <thead>\n",
       "    <tr style=\"text-align: right;\">\n",
       "      <th>gender</th>\n",
       "      <th>F</th>\n",
       "      <th>M</th>\n",
       "    </tr>\n",
       "    <tr>\n",
       "      <th>year</th>\n",
       "      <th></th>\n",
       "      <th></th>\n",
       "    </tr>\n",
       "  </thead>\n",
       "  <tbody>\n",
       "    <tr>\n",
       "      <th>1969</th>\n",
       "      <td>1753634</td>\n",
       "      <td>1846572</td>\n",
       "    </tr>\n",
       "    <tr>\n",
       "      <th>1970</th>\n",
       "      <td>1819164</td>\n",
       "      <td>1918636</td>\n",
       "    </tr>\n",
       "    <tr>\n",
       "      <th>1971</th>\n",
       "      <td>1736774</td>\n",
       "      <td>1826774</td>\n",
       "    </tr>\n",
       "    <tr>\n",
       "      <th>1972</th>\n",
       "      <td>1592347</td>\n",
       "      <td>1673888</td>\n",
       "    </tr>\n",
       "    <tr>\n",
       "      <th>1973</th>\n",
       "      <td>1533102</td>\n",
       "      <td>1613023</td>\n",
       "    </tr>\n",
       "    <tr>\n",
       "      <th>1974</th>\n",
       "      <td>1543005</td>\n",
       "      <td>1627626</td>\n",
       "    </tr>\n",
       "    <tr>\n",
       "      <th>1975</th>\n",
       "      <td>1535546</td>\n",
       "      <td>1618010</td>\n",
       "    </tr>\n",
       "    <tr>\n",
       "      <th>1976</th>\n",
       "      <td>1547613</td>\n",
       "      <td>1628863</td>\n",
       "    </tr>\n",
       "    <tr>\n",
       "      <th>1977</th>\n",
       "      <td>1623363</td>\n",
       "      <td>1708796</td>\n",
       "    </tr>\n",
       "    <tr>\n",
       "      <th>1978</th>\n",
       "      <td>1626324</td>\n",
       "      <td>1711976</td>\n",
       "    </tr>\n",
       "    <tr>\n",
       "      <th>1979</th>\n",
       "      <td>1705837</td>\n",
       "      <td>1793958</td>\n",
       "    </tr>\n",
       "    <tr>\n",
       "      <th>1980</th>\n",
       "      <td>1762459</td>\n",
       "      <td>1855522</td>\n",
       "    </tr>\n",
       "    <tr>\n",
       "      <th>1981</th>\n",
       "      <td>1772037</td>\n",
       "      <td>1863478</td>\n",
       "    </tr>\n",
       "    <tr>\n",
       "      <th>1982</th>\n",
       "      <td>1797239</td>\n",
       "      <td>1888218</td>\n",
       "    </tr>\n",
       "    <tr>\n",
       "      <th>1983</th>\n",
       "      <td>1775299</td>\n",
       "      <td>1867522</td>\n",
       "    </tr>\n",
       "    <tr>\n",
       "      <th>1984</th>\n",
       "      <td>1791802</td>\n",
       "      <td>1881766</td>\n",
       "    </tr>\n",
       "    <tr>\n",
       "      <th>1985</th>\n",
       "      <td>1834774</td>\n",
       "      <td>1930290</td>\n",
       "    </tr>\n",
       "    <tr>\n",
       "      <th>1986</th>\n",
       "      <td>1833708</td>\n",
       "      <td>1926987</td>\n",
       "    </tr>\n",
       "    <tr>\n",
       "      <th>1987</th>\n",
       "      <td>1860111</td>\n",
       "      <td>1953105</td>\n",
       "    </tr>\n",
       "    <tr>\n",
       "      <th>1988</th>\n",
       "      <td>1909210</td>\n",
       "      <td>2004583</td>\n",
       "    </tr>\n",
       "    <tr>\n",
       "      <th>1989</th>\n",
       "      <td>1973712</td>\n",
       "      <td>2071981</td>\n",
       "    </tr>\n",
       "    <tr>\n",
       "      <th>1990</th>\n",
       "      <td>2030966</td>\n",
       "      <td>2131951</td>\n",
       "    </tr>\n",
       "    <tr>\n",
       "      <th>1991</th>\n",
       "      <td>2011601</td>\n",
       "      <td>2103741</td>\n",
       "    </tr>\n",
       "    <tr>\n",
       "      <th>1992</th>\n",
       "      <td>1985118</td>\n",
       "      <td>2084310</td>\n",
       "    </tr>\n",
       "    <tr>\n",
       "      <th>1993</th>\n",
       "      <td>1953456</td>\n",
       "      <td>2051067</td>\n",
       "    </tr>\n",
       "    <tr>\n",
       "      <th>1994</th>\n",
       "      <td>1932234</td>\n",
       "      <td>2024691</td>\n",
       "    </tr>\n",
       "    <tr>\n",
       "      <th>1995</th>\n",
       "      <td>1904871</td>\n",
       "      <td>1998141</td>\n",
       "    </tr>\n",
       "    <tr>\n",
       "      <th>1996</th>\n",
       "      <td>1902664</td>\n",
       "      <td>1992210</td>\n",
       "    </tr>\n",
       "    <tr>\n",
       "      <th>1997</th>\n",
       "      <td>1896928</td>\n",
       "      <td>1987401</td>\n",
       "    </tr>\n",
       "    <tr>\n",
       "      <th>1998</th>\n",
       "      <td>1927106</td>\n",
       "      <td>2018086</td>\n",
       "    </tr>\n",
       "    <tr>\n",
       "      <th>1999</th>\n",
       "      <td>1934510</td>\n",
       "      <td>2028955</td>\n",
       "    </tr>\n",
       "    <tr>\n",
       "      <th>2000</th>\n",
       "      <td>1984255</td>\n",
       "      <td>2079568</td>\n",
       "    </tr>\n",
       "    <tr>\n",
       "      <th>2001</th>\n",
       "      <td>1970770</td>\n",
       "      <td>2060761</td>\n",
       "    </tr>\n",
       "    <tr>\n",
       "      <th>2002</th>\n",
       "      <td>1966519</td>\n",
       "      <td>2060857</td>\n",
       "    </tr>\n",
       "    <tr>\n",
       "      <th>2003</th>\n",
       "      <td>1999387</td>\n",
       "      <td>2096705</td>\n",
       "    </tr>\n",
       "    <tr>\n",
       "      <th>2004</th>\n",
       "      <td>2010710</td>\n",
       "      <td>2108197</td>\n",
       "    </tr>\n",
       "    <tr>\n",
       "      <th>2005</th>\n",
       "      <td>2022892</td>\n",
       "      <td>2122727</td>\n",
       "    </tr>\n",
       "    <tr>\n",
       "      <th>2006</th>\n",
       "      <td>2084957</td>\n",
       "      <td>2188268</td>\n",
       "    </tr>\n",
       "    <tr>\n",
       "      <th>2007</th>\n",
       "      <td>2111890</td>\n",
       "      <td>2212118</td>\n",
       "    </tr>\n",
       "    <tr>\n",
       "      <th>2008</th>\n",
       "      <td>2077929</td>\n",
       "      <td>2177227</td>\n",
       "    </tr>\n",
       "  </tbody>\n",
       "</table>\n",
       "</div>"
      ],
      "text/plain": [
       "gender        F        M\n",
       "year                    \n",
       "1969    1753634  1846572\n",
       "1970    1819164  1918636\n",
       "1971    1736774  1826774\n",
       "1972    1592347  1673888\n",
       "1973    1533102  1613023\n",
       "1974    1543005  1627626\n",
       "1975    1535546  1618010\n",
       "1976    1547613  1628863\n",
       "1977    1623363  1708796\n",
       "1978    1626324  1711976\n",
       "1979    1705837  1793958\n",
       "1980    1762459  1855522\n",
       "1981    1772037  1863478\n",
       "1982    1797239  1888218\n",
       "1983    1775299  1867522\n",
       "1984    1791802  1881766\n",
       "1985    1834774  1930290\n",
       "1986    1833708  1926987\n",
       "1987    1860111  1953105\n",
       "1988    1909210  2004583\n",
       "1989    1973712  2071981\n",
       "1990    2030966  2131951\n",
       "1991    2011601  2103741\n",
       "1992    1985118  2084310\n",
       "1993    1953456  2051067\n",
       "1994    1932234  2024691\n",
       "1995    1904871  1998141\n",
       "1996    1902664  1992210\n",
       "1997    1896928  1987401\n",
       "1998    1927106  2018086\n",
       "1999    1934510  2028955\n",
       "2000    1984255  2079568\n",
       "2001    1970770  2060761\n",
       "2002    1966519  2060857\n",
       "2003    1999387  2096705\n",
       "2004    2010710  2108197\n",
       "2005    2022892  2122727\n",
       "2006    2084957  2188268\n",
       "2007    2111890  2212118\n",
       "2008    2077929  2177227"
      ]
     },
     "execution_count": 36,
     "metadata": {},
     "output_type": "execute_result"
    }
   ],
   "source": [
    "births.pivot_table('births',index=\"year\",columns=\"gender\",aggfunc=\"sum\")"
   ]
  },
  {
   "cell_type": "code",
   "execution_count": 19,
   "metadata": {},
   "outputs": [
    {
     "ename": "NameError",
     "evalue": "name 'Nan' is not defined",
     "output_type": "error",
     "traceback": [
      "\u001b[1;31m---------------------------------------------------------------------------\u001b[0m",
      "\u001b[1;31mNameError\u001b[0m                                 Traceback (most recent call last)",
      "\u001b[1;32m<ipython-input-19-733b7d0d6efa>\u001b[0m in \u001b[0;36m<module>\u001b[1;34m\u001b[0m\n\u001b[1;32m----> 1\u001b[1;33m \u001b[0mNan\u001b[0m\u001b[1;33m\u001b[0m\u001b[1;33m\u001b[0m\u001b[0m\n\u001b[0m",
      "\u001b[1;31mNameError\u001b[0m: name 'Nan' is not defined"
     ]
    }
   ],
   "source": [
    "Nan"
   ]
  },
  {
   "cell_type": "code",
   "execution_count": 3,
   "metadata": {},
   "outputs": [
    {
     "ename": "TypeError",
     "evalue": "'str' object does not support item assignment",
     "output_type": "error",
     "traceback": [
      "\u001b[1;31m---------------------------------------------------------------------------\u001b[0m",
      "\u001b[1;31mTypeError\u001b[0m                                 Traceback (most recent call last)",
      "\u001b[1;32m<ipython-input-3-ebd052666dea>\u001b[0m in \u001b[0;36m<module>\u001b[1;34m\u001b[0m\n\u001b[0;32m      1\u001b[0m \u001b[0ms\u001b[0m\u001b[1;33m=\u001b[0m\u001b[1;34m\"yash\"\u001b[0m\u001b[1;33m\u001b[0m\u001b[1;33m\u001b[0m\u001b[0m\n\u001b[1;32m----> 2\u001b[1;33m \u001b[0ms\u001b[0m\u001b[1;33m[\u001b[0m\u001b[1;36m2\u001b[0m\u001b[1;33m]\u001b[0m\u001b[1;33m=\u001b[0m\u001b[1;34m\"a\"\u001b[0m\u001b[1;33m\u001b[0m\u001b[1;33m\u001b[0m\u001b[0m\n\u001b[0m",
      "\u001b[1;31mTypeError\u001b[0m: 'str' object does not support item assignment"
     ]
    }
   ],
   "source": [
    "s=\"yash\"\n",
    "s[2]=\"a\""
   ]
  },
  {
   "cell_type": "code",
   "execution_count": 4,
   "metadata": {},
   "outputs": [],
   "source": [
    "a = np.array([[1, 0],\n",
    "              [0, 1]])\n",
    "b = np.array([[4, 1],\n",
    "              [2, 2]])"
   ]
  },
  {
   "cell_type": "code",
   "execution_count": 5,
   "metadata": {},
   "outputs": [
    {
     "data": {
      "text/plain": [
       "array([[4, 0],\n",
       "       [0, 2]])"
      ]
     },
     "execution_count": 5,
     "metadata": {},
     "output_type": "execute_result"
    }
   ],
   "source": [
    "a*b"
   ]
  },
  {
   "cell_type": "code",
   "execution_count": 6,
   "metadata": {},
   "outputs": [
    {
     "data": {
      "text/plain": [
       "array([[4, 1],\n",
       "       [2, 2]])"
      ]
     },
     "execution_count": 6,
     "metadata": {},
     "output_type": "execute_result"
    }
   ],
   "source": [
    "a.dot(b)"
   ]
  },
  {
   "cell_type": "code",
   "execution_count": 7,
   "metadata": {},
   "outputs": [
    {
     "data": {
      "text/plain": [
       "array([[4, 1],\n",
       "       [2, 2]])"
      ]
     },
     "execution_count": 7,
     "metadata": {},
     "output_type": "execute_result"
    }
   ],
   "source": [
    "np.matmul(a,b)"
   ]
  },
  {
   "cell_type": "code",
   "execution_count": 13,
   "metadata": {},
   "outputs": [
    {
     "ename": "TypeError",
     "evalue": "'float' object cannot be interpreted as an integer",
     "output_type": "error",
     "traceback": [
      "\u001b[1;31m---------------------------------------------------------------------------\u001b[0m",
      "\u001b[1;31mTypeError\u001b[0m                                 Traceback (most recent call last)",
      "\u001b[1;32m<ipython-input-13-84d0c152a81f>\u001b[0m in \u001b[0;36m<module>\u001b[1;34m\u001b[0m\n\u001b[0;32m      1\u001b[0m \u001b[0mrng\u001b[0m \u001b[1;33m=\u001b[0m \u001b[0mnp\u001b[0m\u001b[1;33m.\u001b[0m\u001b[0mrandom\u001b[0m\u001b[1;33m.\u001b[0m\u001b[0mRandomState\u001b[0m\u001b[1;33m(\u001b[0m\u001b[1;36m42\u001b[0m\u001b[1;33m)\u001b[0m\u001b[1;33m\u001b[0m\u001b[1;33m\u001b[0m\u001b[0m\n\u001b[1;32m----> 2\u001b[1;33m \u001b[0mxy\u001b[0m \u001b[1;33m=\u001b[0m \u001b[0mrng\u001b[0m\u001b[1;33m.\u001b[0m\u001b[0mrand\u001b[0m\u001b[1;33m(\u001b[0m\u001b[1;36m1E6\u001b[0m\u001b[1;33m)\u001b[0m\u001b[1;33m\u001b[0m\u001b[1;33m\u001b[0m\u001b[0m\n\u001b[0m\u001b[0;32m      3\u001b[0m \u001b[0myy\u001b[0m \u001b[1;33m=\u001b[0m \u001b[0mrng\u001b[0m\u001b[1;33m.\u001b[0m\u001b[0mrand\u001b[0m\u001b[1;33m(\u001b[0m\u001b[1;36m1E6\u001b[0m\u001b[1;33m)\u001b[0m\u001b[1;33m\u001b[0m\u001b[1;33m\u001b[0m\u001b[0m\n\u001b[0;32m      4\u001b[0m \u001b[0mget_ipython\u001b[0m\u001b[1;33m(\u001b[0m\u001b[1;33m)\u001b[0m\u001b[1;33m.\u001b[0m\u001b[0mrun_line_magic\u001b[0m\u001b[1;33m(\u001b[0m\u001b[1;34m'timeit'\u001b[0m\u001b[1;33m,\u001b[0m \u001b[1;34m'x+y'\u001b[0m\u001b[1;33m)\u001b[0m\u001b[1;33m\u001b[0m\u001b[1;33m\u001b[0m\u001b[0m\n",
      "\u001b[1;32mmtrand.pyx\u001b[0m in \u001b[0;36mnumpy.random.mtrand.RandomState.rand\u001b[1;34m()\u001b[0m\n",
      "\u001b[1;32mmtrand.pyx\u001b[0m in \u001b[0;36mnumpy.random.mtrand.RandomState.random_sample\u001b[1;34m()\u001b[0m\n",
      "\u001b[1;32m_common.pyx\u001b[0m in \u001b[0;36mnumpy.random._common.double_fill\u001b[1;34m()\u001b[0m\n",
      "\u001b[1;31mTypeError\u001b[0m: 'float' object cannot be interpreted as an integer"
     ]
    }
   ],
   "source": [
    "rng = np.random.RandomState(42)\n",
    "xy = rng.rand(1E6)\n",
    "yy = rng.rand(1E6)\n",
    "%timeit x+y"
   ]
  },
  {
   "cell_type": "code",
   "execution_count": null,
   "metadata": {},
   "outputs": [],
   "source": []
  },
  {
   "cell_type": "code",
   "execution_count": null,
   "metadata": {},
   "outputs": [],
   "source": []
  },
  {
   "cell_type": "code",
   "execution_count": null,
   "metadata": {},
   "outputs": [],
   "source": []
  },
  {
   "cell_type": "code",
   "execution_count": null,
   "metadata": {},
   "outputs": [],
   "source": []
  },
  {
   "cell_type": "code",
   "execution_count": null,
   "metadata": {},
   "outputs": [],
   "source": []
  },
  {
   "cell_type": "code",
   "execution_count": null,
   "metadata": {},
   "outputs": [],
   "source": []
  },
  {
   "cell_type": "code",
   "execution_count": null,
   "metadata": {},
   "outputs": [],
   "source": []
  },
  {
   "cell_type": "code",
   "execution_count": null,
   "metadata": {},
   "outputs": [],
   "source": []
  },
  {
   "cell_type": "code",
   "execution_count": null,
   "metadata": {},
   "outputs": [],
   "source": []
  },
  {
   "cell_type": "code",
   "execution_count": null,
   "metadata": {},
   "outputs": [],
   "source": []
  },
  {
   "cell_type": "code",
   "execution_count": null,
   "metadata": {},
   "outputs": [],
   "source": []
  },
  {
   "cell_type": "code",
   "execution_count": null,
   "metadata": {},
   "outputs": [],
   "source": []
  },
  {
   "cell_type": "code",
   "execution_count": null,
   "metadata": {},
   "outputs": [],
   "source": []
  },
  {
   "cell_type": "code",
   "execution_count": null,
   "metadata": {},
   "outputs": [],
   "source": []
  },
  {
   "cell_type": "code",
   "execution_count": null,
   "metadata": {},
   "outputs": [],
   "source": []
  },
  {
   "cell_type": "code",
   "execution_count": null,
   "metadata": {},
   "outputs": [],
   "source": []
  },
  {
   "cell_type": "code",
   "execution_count": null,
   "metadata": {},
   "outputs": [],
   "source": []
  },
  {
   "cell_type": "code",
   "execution_count": null,
   "metadata": {},
   "outputs": [],
   "source": []
  },
  {
   "cell_type": "code",
   "execution_count": null,
   "metadata": {},
   "outputs": [],
   "source": []
  },
  {
   "cell_type": "code",
   "execution_count": null,
   "metadata": {},
   "outputs": [],
   "source": []
  },
  {
   "cell_type": "code",
   "execution_count": null,
   "metadata": {},
   "outputs": [],
   "source": []
  },
  {
   "cell_type": "code",
   "execution_count": null,
   "metadata": {},
   "outputs": [],
   "source": []
  }
 ],
 "metadata": {
  "kernelspec": {
   "display_name": "Python 3",
   "language": "python",
   "name": "python3"
  },
  "language_info": {
   "codemirror_mode": {
    "name": "ipython",
    "version": 3
   },
   "file_extension": ".py",
   "mimetype": "text/x-python",
   "name": "python",
   "nbconvert_exporter": "python",
   "pygments_lexer": "ipython3",
   "version": "3.7.6"
  }
 },
 "nbformat": 4,
 "nbformat_minor": 4
}


print('The best work from your side...keep it up...')


